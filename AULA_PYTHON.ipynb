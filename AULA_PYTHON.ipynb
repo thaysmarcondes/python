{
  "nbformat": 4,
  "nbformat_minor": 0,
  "metadata": {
    "colab": {
      "provenance": [],
      "authorship_tag": "ABX9TyPrgftJeXomdzUcAJb/HYv7",
      "include_colab_link": true
    },
    "kernelspec": {
      "name": "python3",
      "display_name": "Python 3"
    },
    "language_info": {
      "name": "python"
    }
  },
  "cells": [
    {
      "cell_type": "markdown",
      "metadata": {
        "id": "view-in-github",
        "colab_type": "text"
      },
      "source": [
        "<a href=\"https://colab.research.google.com/github/thaysmarcondes/python/blob/main/AULA_PYTHON.ipynb\" target=\"_parent\"><img src=\"https://colab.research.google.com/assets/colab-badge.svg\" alt=\"Open In Colab\"/></a>"
      ]
    },
    {
      "cell_type": "markdown",
      "source": [
        "AULA 2"
      ],
      "metadata": {
        "id": "-9hnzN7VhVE1"
      }
    },
    {
      "cell_type": "code",
      "source": [
        "livro_ficcao = 8\n",
        "livro_n_ficcao = 10\n",
        "livro_infantil = 6\n",
        "pontos_rodrigo = livro_ficcao + livro_n_ficcao + livro_infantil\n",
        "print(f\"Os pontos totais do Rodrigo são {pontos_rodrigo}\")\n",
        "pontos_ana = 2 * livro_ficcao + 5 * livro_infantil\n",
        "print(f\"Os pontos totais do Ana são {pontos_ana}\")\n",
        "pontos_carlos = 1 * livro_ficcao + 3* livro_n_ficcao + 3 * livro_infantil\n",
        "print(f\"Os pontos totais do Carlos são {pontos_carlos}\")\n",
        "pontos_totais = pontos_rodrigo + pontos_ana + pontos_carlos\n",
        "print(f\"O total de pontos acumulados entre Rodrigo, Ana e Carlos juntos é {pontos_totais}\")\n",
        "\n"
      ],
      "metadata": {
        "id": "wJsvUjXDhv-H"
      },
      "execution_count": null,
      "outputs": []
    },
    {
      "cell_type": "code",
      "source": [
        "total_de_figurinhas = int(input(\"Digite o total de figurinhas: \"))\n",
        "numero_de_amigos = int(input(\"Digite o número de amigos: \"))\n",
        "figurinhas_amigo = total_de_figurinhas // (numero_de_amigos + 2)\n",
        "figurinhas_joao = 2 * figurinhas_amigo\n",
        "\n",
        "\n",
        "print(f\"João recebeu {figurinhas_joao} figurinhas\")"
      ],
      "metadata": {
        "colab": {
          "base_uri": "https://localhost:8080/"
        },
        "id": "bNUN8y50nSYo",
        "outputId": "72a6eb86-b3da-441c-cf77-71b4b69f931c"
      },
      "execution_count": 2,
      "outputs": [
        {
          "output_type": "stream",
          "name": "stdout",
          "text": [
            "Digite o total de figurinhas: 200\n",
            "Digite o número de amigos: 10\n",
            "João recebeu 32 figurinhas\n"
          ]
        }
      ]
    },
    {
      "cell_type": "markdown",
      "source": [
        "AULA 3"
      ],
      "metadata": {
        "id": "Ynvtm8xpnY72"
      }
    },
    {
      "cell_type": "code",
      "source": [
        "numero_de_alunos = int(input(\"Digite a quantidade de alunos: \"))\n",
        "numero_de_monitores = int(input(\"Digite a quantidade de monitores: \"))\n",
        "if numero_de_alunos + numero_de_monitores <= 50:\n",
        "  resposta_positiva = \"pode ir\"\n",
        "resposta_negativa = \"não pode ir\"\n",
        "if numero_de_alunos + numero_de_monitores <= 50:\n",
        "  print(resposta_positiva)\n",
        "else:\n",
        "  print(resposta_negativa)"
      ],
      "metadata": {
        "colab": {
          "base_uri": "https://localhost:8080/"
        },
        "id": "Hl8EjoKAndAy",
        "outputId": "6d4f11d1-7978-4a32-fdac-e7ac3e3ed459"
      },
      "execution_count": 3,
      "outputs": [
        {
          "output_type": "stream",
          "name": "stdout",
          "text": [
            "Digite a quantidade de alunos: 30\n",
            "Digite a quantidade de monitores: 5\n",
            "pode ir\n"
          ]
        }
      ]
    },
    {
      "cell_type": "code",
      "source": [
        "quantidade_professores = 8\n",
        "numero_de_alunos = int(input(\"Digite a quantidade de alunos: \"))\n",
        "numero_de_monitores = int(input(\"Digite a quantidade de monitores: \"))\n",
        "if numero_de_alunos + numero_de_monitores + quantidade_professores <= 30:\n",
        "  resposta_positiva = \"pode ir\"\n",
        "  resposta_negativa = \"não pode ir\"\n",
        "if numero_de_alunos + numero_de_monitores + quantidade_professores<= 30:\n",
        "   print(resposta_positiva)\n",
        "else:\n",
        "   print(resposta_negativa)"
      ],
      "metadata": {
        "colab": {
          "base_uri": "https://localhost:8080/"
        },
        "id": "Fa6fxJsLrgwp",
        "outputId": "d684bb3e-89ec-4a6d-8565-fa58c24d6d3a"
      },
      "execution_count": 5,
      "outputs": [
        {
          "output_type": "stream",
          "name": "stdout",
          "text": [
            "Digite a quantidade de alunos: 15\n",
            "Digite a quantidade de monitores: 8\n",
            "não pode ir\n"
          ]
        }
      ]
    }
  ]
}